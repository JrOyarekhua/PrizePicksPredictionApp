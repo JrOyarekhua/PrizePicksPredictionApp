{
 "cells": [
  {
   "metadata": {
    "ExecuteTime": {
     "end_time": "2025-05-15T02:26:34.739914Z",
     "start_time": "2025-05-15T02:26:34.734715Z"
    }
   },
   "cell_type": "code",
   "source": [
    "import pandas as pd\n",
    "pd.set_option('display.max_columns', None)"
   ],
   "id": "1033cf709e840df2",
   "outputs": [],
   "execution_count": 178
  },
  {
   "cell_type": "code",
   "id": "initial_id",
   "metadata": {
    "collapsed": true,
    "ExecuteTime": {
     "end_time": "2025-05-15T02:26:34.825753Z",
     "start_time": "2025-05-15T02:26:34.749815Z"
    }
   },
   "source": [
    "players = pd.read_csv('data/player_season.csv')\n",
    "print(players.head())\n",
    "print(players.describe())"
   ],
   "outputs": [
    {
     "name": "stdout",
     "output_type": "stream",
     "text": [
      "  season_id     team_id team_abbreviation  gp   w   l  w_pct          min  \\\n",
      "0   2024-25  1610612752               NYK  57  36  21  0.632  1169.613333   \n",
      "1   2023-24          -1               TOT  74  40  34  0.541  1623.753333   \n",
      "2   2023-24  1610612752               NYK  49  32  17  0.653  1186.868333   \n",
      "3   2023-24  1610612761               TOR  25   8  17  0.320   436.885000   \n",
      "4   2022-23  1610612761               TOR  55  30  25  0.545  1140.520000   \n",
      "\n",
      "   fgm  fga  fg_pct  fg3m  fg3a  fg3_pct  ftm  fta  ft_pct  oreb  dreb  reb  \\\n",
      "0  164  327   0.502    10    36    0.278   41   69   0.594   101   216  317   \n",
      "1  235  469   0.501    26    97    0.268   69  112   0.616   191   296  487   \n",
      "2  157  299   0.525    13    50    0.260   45   70   0.643   141   210  351   \n",
      "3   78  170   0.459    13    47    0.277   24   42   0.571    50    86  136   \n",
      "4  196  404   0.485    29   108    0.269   87  124   0.702   100   228  328   \n",
      "\n",
      "   ast  tov  stl  blk  blka   pf  pfd  pts  plus_minus  nba_fantasy_pts  dd2  \\\n",
      "0   55   45   47   42    24   81   51  379         -48           1063.9    3   \n",
      "1   97   83   46   68    39  143   84  565         -47           1553.9    9   \n",
      "2   53   54   30   56    26  103   53  372           6           1076.7    7   \n",
      "3   44   29   16   12    13   40   31  193         -53            477.2    2   \n",
      "4   50   59   31   30    31  102   91  508         -37           1100.6   10   \n",
      "\n",
      "   td3  player_id  season_start  season_end  \n",
      "0    0    1630173          2024      2025.0  \n",
      "1    0    1630173          2023      2024.0  \n",
      "2    0    1630173          2023      2024.0  \n",
      "3    0    1630173          2023      2024.0  \n",
      "4    0    1630173          2022      2023.0  \n",
      "            team_id           gp            w            l        w_pct  \\\n",
      "count  3.637000e+03  3637.000000  3637.000000  3637.000000  3637.000000   \n",
      "mean   1.475546e+09    50.444872    25.603244    24.841628     0.497142   \n",
      "std    4.464882e+08    23.718011    15.425916    13.579035     0.178843   \n",
      "min   -1.000000e+00     1.000000     0.000000     0.000000     0.000000   \n",
      "25%    1.610613e+09    31.000000    13.000000    15.000000     0.378000   \n",
      "50%    1.610613e+09    56.000000    25.000000    25.000000     0.506000   \n",
      "75%    1.610613e+09    71.000000    38.000000    34.000000     0.619000   \n",
      "max    1.610613e+09    84.000000    73.000000    71.000000     1.000000   \n",
      "\n",
      "               min          fgm          fga       fg_pct         fg3m  \\\n",
      "count  3637.000000  3637.000000  3637.000000  3637.000000  3637.000000   \n",
      "mean   1267.834462   224.845202   478.535331     0.464112    61.346164   \n",
      "std     833.363053   184.189096   387.089699     0.096107    62.396103   \n",
      "min       1.316667     0.000000     0.000000     0.000000     0.000000   \n",
      "25%     526.053333    72.000000   156.000000     0.420000     8.000000   \n",
      "50%    1243.680000   186.000000   395.000000     0.455000    43.000000   \n",
      "75%    1954.241667   337.000000   716.000000     0.500000    99.000000   \n",
      "max    3383.968333   875.000000  1941.000000     1.000000   402.000000   \n",
      "\n",
      "              fg3a      fg3_pct          ftm          fta       ft_pct  \\\n",
      "count  3637.000000  3637.000000  3637.000000  3637.000000  3637.000000   \n",
      "mean    169.582073     0.308794   101.264504   130.091834     0.735704   \n",
      "std     163.371054     0.138841   111.782694   137.868837     0.175615   \n",
      "min       0.000000     0.000000     0.000000     0.000000     0.000000   \n",
      "25%      27.000000     0.283000    23.000000    32.000000     0.688000   \n",
      "50%     128.000000     0.341000    64.000000    85.000000     0.772000   \n",
      "75%     268.000000     0.382000   142.000000   184.000000     0.836000   \n",
      "max    1028.000000     1.000000   756.000000   881.000000     1.000000   \n",
      "\n",
      "              oreb         dreb          reb          ast          tov  \\\n",
      "count  3637.000000  3637.000000  3637.000000  3637.000000  3637.000000   \n",
      "mean     56.175419   179.723673   235.899093   137.991751    74.067638   \n",
      "std      57.963102   148.979009   198.227435   143.304635    64.775926   \n",
      "min       0.000000     0.000000     0.000000     0.000000     0.000000   \n",
      "25%      17.000000    61.000000    82.000000    35.000000    24.000000   \n",
      "50%      39.000000   152.000000   196.000000    91.000000    57.000000   \n",
      "75%      72.000000   252.000000   328.000000   191.000000   106.000000   \n",
      "max     440.000000   848.000000  1247.000000   925.000000   464.000000   \n",
      "\n",
      "               stl          blk         blka           pf          pfd  \\\n",
      "count  3637.000000  3637.000000  3637.000000  3637.000000  3637.000000   \n",
      "mean     41.361287    26.506461    26.618642   100.672807   111.612318   \n",
      "std      32.708379    30.032889    22.705752    64.973979   107.902843   \n",
      "min       0.000000     0.000000     0.000000     0.000000     0.000000   \n",
      "25%      15.000000     7.000000     8.000000    45.000000    30.000000   \n",
      "50%      36.000000    17.000000    21.000000    99.000000    79.000000   \n",
      "75%      60.000000    35.000000    40.000000   148.000000   160.000000   \n",
      "max     229.000000   254.000000   131.000000   292.000000   604.000000   \n",
      "\n",
      "               pts   plus_minus  nba_fantasy_pts          dd2          td3  \\\n",
      "count  3637.000000  3637.000000      3637.000000  3637.000000  3637.000000   \n",
      "mean    612.301072    14.440473      1231.903217     5.698378     0.358812   \n",
      "std     513.148813   191.366241       940.563337    10.838881     2.072978   \n",
      "min       0.000000  -798.000000        -0.800000     0.000000     0.000000   \n",
      "25%     192.000000   -79.000000       438.200000     0.000000     0.000000   \n",
      "50%     501.000000    -5.000000      1081.000000     1.000000     0.000000   \n",
      "75%     904.000000    94.000000      1847.600000     6.000000     0.000000   \n",
      "max    2818.000000  1072.000000      4905.800000    77.000000    42.000000   \n",
      "\n",
      "          player_id  season_start   season_end  \n",
      "count  3.637000e+03   3637.000000  3637.000000  \n",
      "mean   1.135910e+06   2020.341215  2021.341215  \n",
      "std    6.813594e+05      3.626450     3.626450  \n",
      "min    2.544000e+03   2003.000000  2004.000000  \n",
      "25%    2.035000e+05   2018.000000  2019.000000  \n",
      "50%    1.628384e+06   2021.000000  2022.000000  \n",
      "75%    1.630175e+06   2023.000000  2024.000000  \n",
      "max    1.642530e+06   2024.000000  2025.000000  \n"
     ]
    }
   ],
   "execution_count": 179
  },
  {
   "metadata": {
    "ExecuteTime": {
     "end_time": "2025-05-15T02:26:34.905395Z",
     "start_time": "2025-05-15T02:26:34.899717Z"
    }
   },
   "cell_type": "code",
   "source": "print(players.isnull().sum())",
   "id": "6638e6c0559f8286",
   "outputs": [
    {
     "name": "stdout",
     "output_type": "stream",
     "text": [
      "season_id            0\n",
      "team_id              0\n",
      "team_abbreviation    0\n",
      "gp                   0\n",
      "w                    0\n",
      "l                    0\n",
      "w_pct                0\n",
      "min                  0\n",
      "fgm                  0\n",
      "fga                  0\n",
      "fg_pct               0\n",
      "fg3m                 0\n",
      "fg3a                 0\n",
      "fg3_pct              0\n",
      "ftm                  0\n",
      "fta                  0\n",
      "ft_pct               0\n",
      "oreb                 0\n",
      "dreb                 0\n",
      "reb                  0\n",
      "ast                  0\n",
      "tov                  0\n",
      "stl                  0\n",
      "blk                  0\n",
      "blka                 0\n",
      "pf                   0\n",
      "pfd                  0\n",
      "pts                  0\n",
      "plus_minus           0\n",
      "nba_fantasy_pts      0\n",
      "dd2                  0\n",
      "td3                  0\n",
      "player_id            0\n",
      "season_start         0\n",
      "season_end           0\n",
      "dtype: int64\n"
     ]
    }
   ],
   "execution_count": 180
  },
  {
   "metadata": {},
   "cell_type": "markdown",
   "source": "find null or missing values ",
   "id": "5d78fb55f958ceaa"
  },
  {
   "metadata": {
    "ExecuteTime": {
     "end_time": "2025-05-15T02:26:35.154272Z",
     "start_time": "2025-05-15T02:26:34.964367Z"
    }
   },
   "cell_type": "code",
   "source": [
    "categorical = players.select_dtypes(include=['object'])\n",
    "season_ids,team_abbrev = categorical['season_id'],categorical['team_abbreviation']\n",
    "print(season_ids)\n",
    "print(team_abbrev)\n",
    "# plot value counts of season id\n",
    "season_counts = season_ids.value_counts().sort_index()\n",
    "season_plt = season_counts.plot(kind='bar')\n",
    "# plot value counts of team abbrev\n",
    "team_counts = team_abbrev.value_counts().sort_index()\n",
    "# team_plt = team_counts.plot(kind='bar')\n",
    "print(season_plt)"
   ],
   "id": "44c7ae3b519f2054",
   "outputs": [
    {
     "name": "stdout",
     "output_type": "stream",
     "text": [
      "0       2024-25\n",
      "1       2023-24\n",
      "2       2023-24\n",
      "3       2023-24\n",
      "4       2022-23\n",
      "         ...   \n",
      "3632    2018-19\n",
      "3633    2018-19\n",
      "3634    2018-19\n",
      "3635    2017-18\n",
      "3636    2016-17\n",
      "Name: season_id, Length: 3637, dtype: object\n",
      "0       NYK\n",
      "1       TOT\n",
      "2       NYK\n",
      "3       TOR\n",
      "4       TOR\n",
      "       ... \n",
      "3632    TOT\n",
      "3633    MIN\n",
      "3634    PHI\n",
      "3635    PHI\n",
      "3636    PHI\n",
      "Name: team_abbreviation, Length: 3637, dtype: object\n",
      "Axes(0.125,0.11;0.775x0.77)\n"
     ]
    },
    {
     "data": {
      "text/plain": [
       "<Figure size 640x480 with 1 Axes>"
      ],
      "image/png": "[encoded data removed]"
     },
     "metadata": {},
     "output_type": "display_data"
    }
   ],
   "execution_count": 181
  },
  {
   "metadata": {},
   "cell_type": "markdown",
   "source": "get range and visualize frequency using a bar plot ",
   "id": "f91afe4a7cee8f9b"
  },
  {
   "metadata": {
    "ExecuteTime": {
     "end_time": "2025-05-15T02:26:35.165873Z",
     "start_time": "2025-05-15T02:26:35.158748Z"
    }
   },
   "cell_type": "code",
   "source": [
    "nop_players = players[players['team_abbreviation'] == 'NOP'] # get all players playing for the pelicans\n",
    "unique_nop_players = nop_players['player_id'].nunique()\n",
    "print(unique_nop_players)"
   ],
   "id": "ee00b51ad7cc7e6f",
   "outputs": [
    {
     "name": "stdout",
     "output_type": "stream",
     "text": [
      "46\n"
     ]
    }
   ],
   "execution_count": 182
  },
  {
   "metadata": {},
   "cell_type": "markdown",
   "source": "check unusual values ",
   "id": "fb19f7491e934f0a"
  },
  {
   "metadata": {
    "ExecuteTime": {
     "end_time": "2025-05-15T02:26:35.229272Z",
     "start_time": "2025-05-15T02:26:35.197463Z"
    }
   },
   "cell_type": "code",
   "source": [
    "numerical = players.select_dtypes(include=['int64', 'float64']).copy()\n",
    "numerical.describe()\n",
    "# convert everything to per-game stats\n",
    "exclude = numerical.columns.to_list()[:6] + [i for i in numerical.columns.to_list() if i.endswith('_pct')] + numerical.columns.to_list()[26:]\n",
    "include = [i for i in numerical.columns.to_list() if i not in exclude]\n",
    "for stat in include:\n",
    "    numerical[f'{stat}_per_game'] = numerical[stat] / numerical['gp']\n",
    "    players[f'{stat}_per_game'] = players[stat] / players['gp']\n",
    "    \n",
    "numerical.drop(columns=include, inplace=True)\n",
    "players.drop(columns=include, inplace=True)\n",
    "print(numerical.columns)\n",
    "    "
   ],
   "id": "1c93b0eb1fd228c9",
   "outputs": [
    {
     "name": "stdout",
     "output_type": "stream",
     "text": [
      "Index(['team_id', 'gp', 'w', 'l', 'w_pct', 'min', 'fg_pct', 'fg3_pct',\n",
      "       'ft_pct', 'plus_minus', 'nba_fantasy_pts', 'dd2', 'td3', 'player_id',\n",
      "       'season_start', 'season_end', 'fgm_per_game', 'fga_per_game',\n",
      "       'fg3m_per_game', 'fg3a_per_game', 'ftm_per_game', 'fta_per_game',\n",
      "       'oreb_per_game', 'dreb_per_game', 'reb_per_game', 'ast_per_game',\n",
      "       'tov_per_game', 'stl_per_game', 'blk_per_game', 'blka_per_game',\n",
      "       'pf_per_game', 'pfd_per_game', 'pts_per_game'],\n",
      "      dtype='object')\n"
     ]
    }
   ],
   "execution_count": 183
  },
  {
   "metadata": {
    "ExecuteTime": {
     "end_time": "2025-05-15T02:26:35.273865Z",
     "start_time": "2025-05-15T02:26:35.260507Z"
    }
   },
   "cell_type": "code",
   "source": [
    "# group players based on the amount of points, assists, rebounds, steals, etc\n",
    "n_avg = numerical.groupby('player_id').mean().sort_index()\n",
    "numerical.head()\n",
    "print(n_avg[n_avg[\"team_id\"] == -1].shape[0])\n",
    "print(n_avg[n_avg[\"team_id\"] == -1].shape[0]/len(n_avg))\n",
    "numerical.drop(numerical[numerical[\"team_id\"] == -1].index, inplace=True)\n"
   ],
   "id": "23528a6c1298a3e4",
   "outputs": [
    {
     "name": "stdout",
     "output_type": "stream",
     "text": [
      "0\n",
      "0.0\n"
     ]
    }
   ],
   "execution_count": 184
  },
  {
   "metadata": {
    "ExecuteTime": {
     "end_time": "2025-05-15T02:26:35.348371Z",
     "start_time": "2025-05-15T02:26:35.305504Z"
    }
   },
   "cell_type": "code",
   "source": [
    "# check for distrobution of points\n",
    "print(numerical.columns)\n",
    "per_game = n_avg.iloc[:,15:]\n",
    "ppg = per_game['pts_per_game']\n",
    "ppg.plot(kind='box',vert=False).set_xlabel('PPG')"
   ],
   "id": "19fda43ba6ea4423",
   "outputs": [
    {
     "name": "stdout",
     "output_type": "stream",
     "text": [
      "Index(['team_id', 'gp', 'w', 'l', 'w_pct', 'min', 'fg_pct', 'fg3_pct',\n",
      "       'ft_pct', 'plus_minus', 'nba_fantasy_pts', 'dd2', 'td3', 'player_id',\n",
      "       'season_start', 'season_end', 'fgm_per_game', 'fga_per_game',\n",
      "       'fg3m_per_game', 'fg3a_per_game', 'ftm_per_game', 'fta_per_game',\n",
      "       'oreb_per_game', 'dreb_per_game', 'reb_per_game', 'ast_per_game',\n",
      "       'tov_per_game', 'stl_per_game', 'blk_per_game', 'blka_per_game',\n",
      "       'pf_per_game', 'pfd_per_game', 'pts_per_game'],\n",
      "      dtype='object')\n"
     ]
    },
    {
     "data": {
      "text/plain": [
       "Text(0.5, 0, 'PPG')"
      ]
     },
     "execution_count": 185,
     "metadata": {},
     "output_type": "execute_result"
    },
    {
     "data": {
      "text/plain": [
       "<Figure size 640x480 with 1 Axes>"
      ],
      "image/png": "[encoded data removed]"
     },
     "metadata": {},
     "output_type": "display_data"
    }
   ],
   "execution_count": 185
  },
  {
   "metadata": {},
   "cell_type": "markdown",
   "source": "box plot shows the distribution of ppg within entire dataset",
   "id": "6670acdae3c9ce67"
  },
  {
   "metadata": {
    "ExecuteTime": {
     "end_time": "2025-05-15T02:26:35.389284Z",
     "start_time": "2025-05-15T02:26:35.380348Z"
    }
   },
   "cell_type": "code",
   "source": [
    "\n",
    "q_98 = ppg.quantile(0.98)\n",
    "# get all high scoring players\n",
    "high_scorers = numerical[numerical['pts_per_game'] > q_98]\n",
    "sampled_players = high_scorers.sample(5, random_state=42)\n",
    "# w_pct, fg_pct, plus_minus, nba_fantasy_points, td3,dd, fgm, o_reb\n",
    "\n",
    "\n"
   ],
   "id": "66ffbcbc25d22316",
   "outputs": [
    {
     "name": "stdout",
     "output_type": "stream",
     "text": [
      "                  team_id        gp         w         l     w_pct       min  \\\n",
      "team_id          1.000000  0.081554  0.540924 -0.584167  0.614223  0.084531   \n",
      "gp               0.081554  1.000000  0.578346  0.161317  0.190399  0.987757   \n",
      "w                0.540924  0.578346  1.000000 -0.711810  0.910781  0.476439   \n",
      "l               -0.584167  0.161317 -0.711810  1.000000 -0.937888  0.274058   \n",
      "w_pct            0.614223  0.190399  0.910781 -0.937888  1.000000  0.075495   \n",
      "min              0.084531  0.987757  0.476439  0.274058  0.075495  1.000000   \n",
      "fg_pct           0.847561  0.579921  0.647437 -0.283942  0.490880  0.597507   \n",
      "fg3_pct         -0.075522  0.538747 -0.195374  0.700199 -0.495451  0.655785   \n",
      "ft_pct          -0.617270  0.606894  0.246314  0.224539 -0.009474  0.555694   \n",
      "plus_minus       0.408364  0.424632  0.965440 -0.802345  0.945542  0.297531   \n",
      "nba_fantasy_pts  0.415555  0.764281  0.858451 -0.380487  0.638529  0.683332   \n",
      "dd2              0.080084  0.116970  0.601172 -0.626560  0.648403 -0.027059   \n",
      "td3              0.748020  0.209881  0.709513 -0.677631  0.738080  0.133943   \n",
      "player_id       -0.033554 -0.508824  0.018263 -0.460175  0.292753 -0.541494   \n",
      "season_start     0.351481  0.574365  0.354630  0.065498  0.154136  0.631156   \n",
      "season_end       0.351481  0.574365  0.354630  0.065498  0.154136  0.631156   \n",
      "fgm_per_game     0.884684  0.166101  0.239287 -0.146469  0.211599  0.238479   \n",
      "fga_per_game     0.578179 -0.389311 -0.365159  0.106565 -0.235538 -0.276391   \n",
      "fg3m_per_game   -0.648107  0.075289 -0.752694  0.975392 -0.940066  0.188718   \n",
      "fg3a_per_game   -0.784600 -0.107084 -0.842107  0.926541 -0.958125 -0.013047   \n",
      "ftm_per_game    -0.142967 -0.111485  0.470017 -0.664588  0.610801 -0.264011   \n",
      "fta_per_game     0.017454 -0.229906  0.455221 -0.748645  0.652038 -0.376942   \n",
      "oreb_per_game    0.471026 -0.249280  0.379718 -0.673985  0.568370 -0.340704   \n",
      "dreb_per_game    0.414125  0.257412  0.545878 -0.438751  0.509769  0.172342   \n",
      "reb_per_game     0.436713  0.155505  0.524067 -0.500104  0.535127  0.066935   \n",
      "ast_per_game    -0.355329 -0.192708  0.044737 -0.220037  0.164277 -0.231980   \n",
      "tov_per_game    -0.669562 -0.278839 -0.047939 -0.182078  0.082621 -0.368088   \n",
      "stl_per_game    -0.155086 -0.453377 -0.883439  0.678396 -0.827643 -0.311280   \n",
      "blk_per_game     0.431020  0.482170  0.598003 -0.308299  0.460724  0.415100   \n",
      "blka_per_game    0.154630 -0.955004 -0.553588 -0.152528 -0.182306 -0.916908   \n",
      "pf_per_game     -0.000839  0.028636  0.162944 -0.172466  0.159978 -0.049488   \n",
      "pfd_per_game     0.103814 -0.117845  0.594664 -0.820856  0.765502 -0.269719   \n",
      "pts_per_game     0.956516  0.176776  0.672449 -0.661295  0.718736  0.144810   \n",
      "\n",
      "                   fg_pct   fg3_pct    ft_pct  plus_minus  nba_fantasy_pts  \\\n",
      "team_id          0.847561 -0.075522 -0.617270    0.408364         0.415555   \n",
      "gp               0.579921  0.538747  0.606894    0.424632         0.764281   \n",
      "w                0.647437 -0.195374  0.246314    0.965440         0.858451   \n",
      "l               -0.283942  0.700199  0.224539   -0.802345        -0.380487   \n",
      "w_pct            0.490880 -0.495451 -0.009474    0.945542         0.638529   \n",
      "min              0.597507  0.655785  0.555694    0.297531         0.683332   \n",
      "fg_pct           1.000000  0.325506 -0.221943    0.438054         0.663640   \n",
      "fg3_pct          0.325506  1.000000  0.281718   -0.388602        -0.069698   \n",
      "ft_pct          -0.221943  0.281718  1.000000    0.293321         0.259816   \n",
      "plus_minus       0.438054 -0.388602  0.293321    1.000000         0.766479   \n",
      "nba_fantasy_pts  0.663640 -0.069698  0.259816    0.766479         1.000000   \n",
      "dd2             -0.001063 -0.768419  0.137535    0.714461         0.643845   \n",
      "td3              0.643691 -0.469471 -0.377483    0.653903         0.762104   \n",
      "player_id       -0.324107 -0.268617  0.030635    0.174064        -0.488899   \n",
      "season_start     0.632996  0.752800  0.256579    0.189221         0.187468   \n",
      "season_end       0.632996  0.752800  0.256579    0.189221         0.187468   \n",
      "fgm_per_game     0.860834  0.336684 -0.617375    0.029187         0.234508   \n",
      "fga_per_game     0.359132  0.226479 -0.865005   -0.499858        -0.365956   \n",
      "fg3m_per_game   -0.380060  0.708885  0.277260   -0.814403        -0.518426   \n",
      "fg3a_per_game   -0.602421  0.507211  0.270099   -0.839756        -0.626708   \n",
      "ftm_per_game    -0.307901 -0.839086  0.264356    0.668834         0.340936   \n",
      "fta_per_game    -0.236470 -0.929529  0.040914    0.643925         0.325815   \n",
      "oreb_per_game    0.166803 -0.824731 -0.507369    0.439724         0.422756   \n",
      "dreb_per_game    0.393131 -0.509258 -0.203962    0.519497         0.774129   \n",
      "reb_per_game     0.354608 -0.589549 -0.273992    0.515501         0.718442   \n",
      "ast_per_game    -0.422043 -0.048570  0.478143    0.198000        -0.382695   \n",
      "tov_per_game    -0.762879 -0.430207  0.555739    0.189444        -0.281862   \n",
      "stl_per_game    -0.236931  0.446314 -0.458551   -0.953325        -0.775311   \n",
      "blk_per_game     0.540616 -0.274760 -0.091738    0.515829         0.875260   \n",
      "blka_per_game   -0.343904 -0.433105 -0.806760   -0.466356        -0.701580   \n",
      "pf_per_game     -0.053544 -0.596749 -0.142440    0.206129         0.485221   \n",
      "pfd_per_game    -0.112751 -0.869369  0.102010    0.765911         0.419901   \n",
      "pts_per_game     0.832054 -0.231731 -0.525916    0.560733         0.616234   \n",
      "\n",
      "                      dd2       td3  player_id  season_start  season_end  \\\n",
      "team_id          0.080084  0.748020  -0.033554      0.351481    0.351481   \n",
      "gp               0.116970  0.209881  -0.508824      0.574365    0.574365   \n",
      "w                0.601172  0.709513   0.018263      0.354630    0.354630   \n",
      "l               -0.626560 -0.677631  -0.460175      0.065498    0.065498   \n",
      "w_pct            0.648403  0.738080   0.292753      0.154136    0.154136   \n",
      "min             -0.027059  0.133943  -0.541494      0.631156    0.631156   \n",
      "fg_pct          -0.001063  0.643691  -0.324107      0.632996    0.632996   \n",
      "fg3_pct         -0.768419 -0.469471  -0.268617      0.752800    0.752800   \n",
      "ft_pct           0.137535 -0.377483   0.030635      0.256579    0.256579   \n",
      "plus_minus       0.714461  0.653903   0.174064      0.189221    0.189221   \n",
      "nba_fantasy_pts  0.643845  0.762104  -0.488899      0.187468    0.187468   \n",
      "dd2              1.000000  0.683975  -0.140588     -0.521807   -0.521807   \n",
      "td3              0.683975  1.000000  -0.327189     -0.124274   -0.124274   \n",
      "player_id       -0.140588 -0.327189   1.000000      0.141030    0.141030   \n",
      "season_start    -0.521807 -0.124274   0.141030      1.000000    1.000000   \n",
      "season_end      -0.521807 -0.124274   0.141030      1.000000    1.000000   \n",
      "fgm_per_game    -0.320269  0.470309  -0.224137      0.519274    0.519274   \n",
      "fga_per_game    -0.578019  0.086244  -0.065222      0.158131    0.158131   \n",
      "fg3m_per_game   -0.713821 -0.820166  -0.254877      0.124842    0.124842   \n",
      "fg3a_per_game   -0.604215 -0.864340  -0.162882     -0.097957   -0.097957   \n",
      "ftm_per_game     0.897323  0.380428   0.259752     -0.532236   -0.532236   \n",
      "fta_per_game     0.911116  0.509806   0.238785     -0.599853   -0.599853   \n",
      "oreb_per_game    0.782870  0.848103  -0.175291     -0.601019   -0.601019   \n",
      "dreb_per_game    0.812646  0.901675  -0.571761     -0.398436   -0.398436   \n",
      "reb_per_game     0.826718  0.912897  -0.501337     -0.451791   -0.451791   \n",
      "ast_per_game    -0.142786 -0.537474   0.887434      0.250830    0.250830   \n",
      "tov_per_game     0.296459 -0.424932   0.618036     -0.326591   -0.326591   \n",
      "stl_per_game    -0.831775 -0.573043  -0.065298     -0.003153   -0.003153   \n",
      "blk_per_game     0.705831  0.870265  -0.695186     -0.197433   -0.197433   \n",
      "blka_per_game   -0.213629 -0.074228   0.378755     -0.465051   -0.465051   \n",
      "pf_per_game      0.786320  0.613957  -0.603843     -0.743146   -0.743146   \n",
      "pfd_per_game     0.909011  0.553861   0.282188     -0.448161   -0.448161   \n",
      "pts_per_game     0.348875  0.907517  -0.168748      0.194431    0.194431   \n",
      "\n",
      "                 fgm_per_game  fga_per_game  fg3m_per_game  fg3a_per_game  \\\n",
      "team_id              0.884684      0.578179      -0.648107      -0.784600   \n",
      "gp                   0.166101     -0.389311       0.075289      -0.107084   \n",
      "w                    0.239287     -0.365159      -0.752694      -0.842107   \n",
      "l                   -0.146469      0.106565       0.975392       0.926541   \n",
      "w_pct                0.211599     -0.235538      -0.940066      -0.958125   \n",
      "min                  0.238479     -0.276391       0.188718      -0.013047   \n",
      "fg_pct               0.860834      0.359132      -0.380060      -0.602421   \n",
      "fg3_pct              0.336684      0.226479       0.708885       0.507211   \n",
      "ft_pct              -0.617375     -0.865005       0.277260       0.270099   \n",
      "plus_minus           0.029187     -0.499858      -0.814403      -0.839756   \n",
      "nba_fantasy_pts      0.234508     -0.365956      -0.518426      -0.626708   \n",
      "dd2                 -0.320269     -0.578019      -0.713821      -0.604215   \n",
      "td3                  0.470309      0.086244      -0.820166      -0.864340   \n",
      "player_id           -0.224137     -0.065222      -0.254877      -0.162882   \n",
      "season_start         0.519274      0.158131       0.124842      -0.097957   \n",
      "season_end           0.519274      0.158131       0.124842      -0.097957   \n",
      "fgm_per_game         1.000000      0.783334      -0.218959      -0.415912   \n",
      "fga_per_game         0.783334      1.000000       0.080918      -0.009729   \n",
      "fg3m_per_game       -0.218959      0.080918       1.000000       0.965904   \n",
      "fg3a_per_game       -0.415912     -0.009729       0.965904       1.000000   \n",
      "ftm_per_game        -0.581136     -0.699351      -0.656320      -0.484257   \n",
      "fta_per_game        -0.438094     -0.522958      -0.758356      -0.584610   \n",
      "oreb_per_game        0.130665      0.046678      -0.789888      -0.697924   \n",
      "dreb_per_game        0.172158     -0.137524      -0.620605      -0.614468   \n",
      "reb_per_game         0.167613     -0.101582      -0.672426      -0.647776   \n",
      "ast_per_game        -0.482717     -0.414651      -0.010352       0.065284   \n",
      "tov_per_game        -0.892658     -0.729285      -0.040162       0.151448   \n",
      "stl_per_game         0.224389      0.710603       0.705347       0.687157   \n",
      "blk_per_game         0.267590     -0.139204      -0.503763      -0.557680   \n",
      "blka_per_game        0.122890      0.635234      -0.100107       0.026839   \n",
      "pf_per_game         -0.190045     -0.247029      -0.344409      -0.246257   \n",
      "pfd_per_game        -0.367336     -0.549251      -0.822264      -0.679779   \n",
      "pts_per_game         0.764467      0.384131      -0.763684      -0.875140   \n",
      "\n",
      "                 ftm_per_game  fta_per_game  oreb_per_game  dreb_per_game  \\\n",
      "team_id             -0.142967      0.017454       0.471026       0.414125   \n",
      "gp                  -0.111485     -0.229906      -0.249280       0.257412   \n",
      "w                    0.470017      0.455221       0.379718       0.545878   \n",
      "l                   -0.664588     -0.748645      -0.673985      -0.438751   \n",
      "w_pct                0.610801      0.652038       0.568370       0.509769   \n",
      "min                 -0.264011     -0.376942      -0.340704       0.172342   \n",
      "fg_pct              -0.307901     -0.236470       0.166803       0.393131   \n",
      "fg3_pct             -0.839086     -0.929529      -0.824731      -0.509258   \n",
      "ft_pct               0.264356      0.040914      -0.507369      -0.203962   \n",
      "plus_minus           0.668834      0.643925       0.439724       0.519497   \n",
      "nba_fantasy_pts      0.340936      0.325815       0.422756       0.774129   \n",
      "dd2                  0.897323      0.911116       0.782870       0.812646   \n",
      "td3                  0.380428      0.509806       0.848103       0.901675   \n",
      "player_id            0.259752      0.238785      -0.175291      -0.571761   \n",
      "season_start        -0.532236     -0.599853      -0.601019      -0.398436   \n",
      "season_end          -0.532236     -0.599853      -0.601019      -0.398436   \n",
      "fgm_per_game        -0.581136     -0.438094       0.130665       0.172158   \n",
      "fga_per_game        -0.699351     -0.522958       0.046678      -0.137524   \n",
      "fg3m_per_game       -0.656320     -0.758356      -0.789888      -0.620605   \n",
      "fg3a_per_game       -0.484257     -0.584610      -0.697924      -0.614468   \n",
      "ftm_per_game         1.000000      0.973805       0.597785       0.480020   \n",
      "fta_per_game         0.973805      1.000000       0.750487       0.571015   \n",
      "oreb_per_game        0.597785      0.750487       1.000000       0.853219   \n",
      "dreb_per_game        0.480020      0.571015       0.853219       1.000000   \n",
      "reb_per_game         0.517285      0.623768       0.906078       0.993758   \n",
      "ast_per_game         0.276819      0.153161      -0.453877      -0.664963   \n",
      "tov_per_game         0.665672      0.537153      -0.121966      -0.305440   \n",
      "stl_per_game        -0.792917     -0.731912      -0.437402      -0.569421   \n",
      "blk_per_game         0.322792      0.387043       0.697766       0.965452   \n",
      "blka_per_game       -0.081324      0.082861       0.298369      -0.183171   \n",
      "pf_per_game          0.531095      0.597605       0.783848       0.880445   \n",
      "pfd_per_game         0.968991      0.983950       0.712112       0.563592   \n",
      "pts_per_game         0.073570      0.225236       0.650103       0.652816   \n",
      "\n",
      "                 reb_per_game  ast_per_game  tov_per_game  stl_per_game  \\\n",
      "team_id              0.436713     -0.355329     -0.669562     -0.155086   \n",
      "gp                   0.155505     -0.192708     -0.278839     -0.453377   \n",
      "w                    0.524067      0.044737     -0.047939     -0.883439   \n",
      "l                   -0.500104     -0.220037     -0.182078      0.678396   \n",
      "w_pct                0.535127      0.164277      0.082621     -0.827643   \n",
      "min                  0.066935     -0.231980     -0.368088     -0.311280   \n",
      "fg_pct               0.354608     -0.422043     -0.762879     -0.236931   \n",
      "fg3_pct             -0.589549     -0.048570     -0.430207      0.446314   \n",
      "ft_pct              -0.273992      0.478143      0.555739     -0.458551   \n",
      "plus_minus           0.515501      0.198000      0.189444     -0.953325   \n",
      "nba_fantasy_pts      0.718442     -0.382695     -0.281862     -0.775311   \n",
      "dd2                  0.826718     -0.142786      0.296459     -0.831775   \n",
      "td3                  0.912897     -0.537474     -0.424932     -0.573043   \n",
      "player_id           -0.501337      0.887434      0.618036     -0.065298   \n",
      "season_start        -0.451791      0.250830     -0.326591     -0.003153   \n",
      "season_end          -0.451791      0.250830     -0.326591     -0.003153   \n",
      "fgm_per_game         0.167613     -0.482717     -0.892658      0.224389   \n",
      "fga_per_game        -0.101582     -0.414651     -0.729285      0.710603   \n",
      "fg3m_per_game       -0.672426     -0.010352     -0.040162      0.705347   \n",
      "fg3a_per_game       -0.647776      0.065284      0.151448      0.687157   \n",
      "ftm_per_game         0.517285      0.276819      0.665672     -0.792917   \n",
      "fta_per_game         0.623768      0.153161      0.537153     -0.731912   \n",
      "oreb_per_game        0.906078     -0.453877     -0.121966     -0.437402   \n",
      "dreb_per_game        0.993758     -0.664963     -0.305440     -0.569421   \n",
      "reb_per_game         1.000000     -0.636538     -0.273878     -0.555505   \n",
      "ast_per_game        -0.636538      1.000000      0.785464     -0.180300   \n",
      "tov_per_game        -0.273878      0.785464      1.000000     -0.341748   \n",
      "stl_per_game        -0.555505     -0.180300     -0.341748      1.000000   \n",
      "blk_per_game         0.932478     -0.716238     -0.432047     -0.556900   \n",
      "blka_per_game       -0.084776     -0.010812     -0.013356      0.556454   \n",
      "pf_per_game          0.881930     -0.640831     -0.072449     -0.371097   \n",
      "pfd_per_game         0.609537      0.211935      0.516179     -0.823626   \n",
      "pts_per_game         0.668657     -0.450734     -0.607978     -0.365691   \n",
      "\n",
      "                 blk_per_game  blka_per_game  pf_per_game  pfd_per_game  \\\n",
      "team_id              0.431020       0.154630    -0.000839      0.103814   \n",
      "gp                   0.482170      -0.955004     0.028636     -0.117845   \n",
      "w                    0.598003      -0.553588     0.162944      0.594664   \n",
      "l                   -0.308299      -0.152528    -0.172466     -0.820856   \n",
      "w_pct                0.460724      -0.182306     0.159978      0.765502   \n",
      "min                  0.415100      -0.916908    -0.049488     -0.269719   \n",
      "fg_pct               0.540616      -0.343904    -0.053544     -0.112751   \n",
      "fg3_pct             -0.274760      -0.433105    -0.596749     -0.869369   \n",
      "ft_pct              -0.091738      -0.806760    -0.142440      0.102010   \n",
      "plus_minus           0.515829      -0.466356     0.206129      0.765911   \n",
      "nba_fantasy_pts      0.875260      -0.701580     0.485221      0.419901   \n",
      "dd2                  0.705831      -0.213629     0.786320      0.909011   \n",
      "td3                  0.870265      -0.074228     0.613957      0.553861   \n",
      "player_id           -0.695186       0.378755    -0.603843      0.282188   \n",
      "season_start        -0.197433      -0.465051    -0.743146     -0.448161   \n",
      "season_end          -0.197433      -0.465051    -0.743146     -0.448161   \n",
      "fgm_per_game         0.267590       0.122890    -0.190045     -0.367336   \n",
      "fga_per_game        -0.139204       0.635234    -0.247029     -0.549251   \n",
      "fg3m_per_game       -0.503763      -0.100107    -0.344409     -0.822264   \n",
      "fg3a_per_game       -0.557680       0.026839    -0.246257     -0.679779   \n",
      "ftm_per_game         0.322792      -0.081324     0.531095      0.968991   \n",
      "fta_per_game         0.387043       0.082861     0.597605      0.983950   \n",
      "oreb_per_game        0.697766       0.298369     0.783848      0.712112   \n",
      "dreb_per_game        0.965452      -0.183171     0.880445      0.563592   \n",
      "reb_per_game         0.932478      -0.084776     0.881930      0.609537   \n",
      "ast_per_game        -0.716238      -0.010812    -0.640831      0.211935   \n",
      "tov_per_game        -0.432047      -0.013356    -0.072449      0.516179   \n",
      "stl_per_game        -0.556900       0.556454    -0.371097     -0.823626   \n",
      "blk_per_game         1.000000      -0.378842     0.795093      0.404812   \n",
      "blka_per_game       -0.378842       1.000000    -0.037757     -0.019465   \n",
      "pf_per_game          0.795093      -0.037757     1.000000      0.514039   \n",
      "pfd_per_game         0.404812      -0.019465     0.514039      1.000000   \n",
      "pts_per_game         0.657543       0.030619     0.256700      0.304143   \n",
      "\n",
      "                 pts_per_game  \n",
      "team_id              0.956516  \n",
      "gp                   0.176776  \n",
      "w                    0.672449  \n",
      "l                   -0.661295  \n",
      "w_pct                0.718736  \n",
      "min                  0.144810  \n",
      "fg_pct               0.832054  \n",
      "fg3_pct             -0.231731  \n",
      "ft_pct              -0.525916  \n",
      "plus_minus           0.560733  \n",
      "nba_fantasy_pts      0.616234  \n",
      "dd2                  0.348875  \n",
      "td3                  0.907517  \n",
      "player_id           -0.168748  \n",
      "season_start         0.194431  \n",
      "season_end           0.194431  \n",
      "fgm_per_game         0.764467  \n",
      "fga_per_game         0.384131  \n",
      "fg3m_per_game       -0.763684  \n",
      "fg3a_per_game       -0.875140  \n",
      "ftm_per_game         0.073570  \n",
      "fta_per_game         0.225236  \n",
      "oreb_per_game        0.650103  \n",
      "dreb_per_game        0.652816  \n",
      "reb_per_game         0.668657  \n",
      "ast_per_game        -0.450734  \n",
      "tov_per_game        -0.607978  \n",
      "stl_per_game        -0.365691  \n",
      "blk_per_game         0.657543  \n",
      "blka_per_game        0.030619  \n",
      "pf_per_game          0.256700  \n",
      "pfd_per_game         0.304143  \n",
      "pts_per_game         1.000000  \n"
     ]
    }
   ],
   "execution_count": 186
  },
  {
   "metadata": {},
   "cell_type": "markdown",
   "source": "",
   "id": "885a6d8f4d12fa17"
  }
 ],
 "metadata": {
  "kernelspec": {
   "display_name": "Python 3",
   "language": "python",
   "name": "python3"
  },
  "language_info": {
   "codemirror_mode": {
    "name": "ipython",
    "version": 2
   },
   "file_extension": ".py",
   "mimetype": "text/x-python",
   "name": "python",
   "nbconvert_exporter": "python",
   "pygments_lexer": "ipython2",
   "version": "2.7.6"
  }
 },
 "nbformat": 4,
 "nbformat_minor": 5
}
